{
 "cells": [
  {
   "cell_type": "code",
   "execution_count": 2,
   "metadata": {},
   "outputs": [
    {
     "ename": "ModuleNotFoundError",
     "evalue": "No module named 'openpyxl'",
     "output_type": "error",
     "traceback": [
      "\u001b[1;31m---------------------------------------------------------------------------\u001b[0m",
      "\u001b[1;31mModuleNotFoundError\u001b[0m                       Traceback (most recent call last)",
      "\u001b[1;32m<ipython-input-2-806dfec1693e>\u001b[0m in \u001b[0;36m<module>\u001b[1;34m\u001b[0m\n\u001b[1;32m----> 1\u001b[1;33m \u001b[1;32mimport\u001b[0m \u001b[0mopenpyxl\u001b[0m\u001b[1;33m\u001b[0m\u001b[1;33m\u001b[0m\u001b[0m\n\u001b[0m\u001b[0;32m      2\u001b[0m \u001b[1;32mimport\u001b[0m \u001b[0mmatplotlib\u001b[0m\u001b[1;33m.\u001b[0m\u001b[0mpyplot\u001b[0m \u001b[1;32mas\u001b[0m \u001b[0mplt\u001b[0m\u001b[1;33m\u001b[0m\u001b[1;33m\u001b[0m\u001b[0m\n\u001b[0;32m      3\u001b[0m \u001b[0mwb\u001b[0m\u001b[1;33m=\u001b[0m\u001b[0mopenpyxl\u001b[0m\u001b[1;33m.\u001b[0m\u001b[0mload_workbook\u001b[0m\u001b[1;33m(\u001b[0m\u001b[1;34m'school_seoul1117.xlsx'\u001b[0m\u001b[1;33m)\u001b[0m\u001b[1;33m\u001b[0m\u001b[1;33m\u001b[0m\u001b[0m\n\u001b[0;32m      4\u001b[0m \u001b[0mws\u001b[0m\u001b[1;33m=\u001b[0m\u001b[0mwb\u001b[0m\u001b[1;33m[\u001b[0m\u001b[0mwb\u001b[0m\u001b[1;33m.\u001b[0m\u001b[0msheetnames\u001b[0m\u001b[1;33m[\u001b[0m\u001b[1;36m0\u001b[0m\u001b[1;33m]\u001b[0m\u001b[1;33m]\u001b[0m\u001b[1;33m\u001b[0m\u001b[1;33m\u001b[0m\u001b[0m\n\u001b[0;32m      5\u001b[0m \u001b[0msheet\u001b[0m\u001b[1;33m=\u001b[0m\u001b[1;33m[\u001b[0m\u001b[0mi\u001b[0m \u001b[1;32mfor\u001b[0m \u001b[0mi\u001b[0m \u001b[1;32min\u001b[0m \u001b[0mws\u001b[0m\u001b[1;33m.\u001b[0m\u001b[0mrows\u001b[0m\u001b[1;33m]\u001b[0m\u001b[1;33m\u001b[0m\u001b[1;33m\u001b[0m\u001b[0m\n",
      "\u001b[1;31mModuleNotFoundError\u001b[0m: No module named 'openpyxl'"
     ]
    }
   ],
   "source": [
    "import openpyxl\n",
    "import matplotlib.pyplot as plt\n",
    "wb=openpyxl.load_workbook('school_seoul1117.xlsx')\n",
    "ws=wb[wb.sheetnames[0]]\n",
    "sheet=[i for i in ws.rows]\n",
    "\n",
    "print(sheet[3][2].value)\n",
    "\n",
    "latitude=[sheet[i][1].value for i in range(1,len(sheet))]\n",
    "longitude=[sheet[i][2].value for i in range(1,len(sheet))]\n",
    "\n",
    "plt.scatter(longitude,latitude,s=5,c='r')\n",
    "plt.grid()\n",
    "plt.show()\n",
    "import openpyxl\n",
    "import matplotlib.pyplot as plt\n",
    "import numpy as np\n",
    "\n",
    "def Distance(A,B):\n",
    "    import numpy as np\n",
    "    return np.sqrt(np.sum(np.power((A-B),2)))\n",
    "\n",
    "def K_means(K,X):\n",
    "    import numpy as np\n",
    "    C_x = np.random.choice(X[:,0],K)\n",
    "    C_y = np.random.choice(X[:,1],K)\n",
    "    C = np.array(list(zip(C_x,C_y)), dtype=np.float32)\n",
    "    c_old =  np.zeros(C.shape)\n",
    "    clusters = np.zeros(len(X))\n",
    "    flag = Distance(C,C_old)\n",
    "    distances = []\n",
    "\n",
    "    while flag !=0:\n",
    "        for i in range(len(X)):\n",
    "            temp = Distance(X[i],C[j])\n",
    "            distances.append(temp)\n",
    "            cluster = np.argmin(distances)\n",
    "            cluster[i] = cluster\n",
    "            distances = []\n",
    "            C_old = C\n",
    "            for i in range(K):\n",
    "                points = [X[j] for j in range(len(X)) if clusters[j] == i]\n",
    "                C[i] = np.mean(points, acis=0)\n",
    "                flag = Distance(C,C_old)\n",
    "    return clusters, c\n",
    "\n",
    "X = np.zeros((len(Longitude),2))\n",
    "for i in range(len(Longitude)):\n",
    "    X[0][0]=Longitude[i]\n",
    "    X[0][1]=Latitude[i]\n",
    "    clusters, C =K_means(3,X)\n",
    "    plt.title(\"Schools in Seoul\")\n",
    "    plt.xlabel(\"Logitude\")\n",
    "    plt.ylabel(\"Latitude\")\n",
    "for i in range(len(clusters)):\n",
    "    if clusters[i] == 0:\n",
    "        plt.scatter(X[1,0],X[1,1],s=5,c='r')\n",
    "    if clusters[i] == 1:\n",
    "        plt.scatter(X[1,0],x[i,1],s=5,c='y')\n",
    "    if clusters[i] == 2:\n",
    "        plt.scatter(X[i,0],x[i,1],s=5,c='b')\n",
    "    plt.scatter(C[:,0],C[:,1],marker='*',s=200,c='black')\n",
    "    plt.grido()\n",
    "    plt.show()"
   ]
  },
  {
   "cell_type": "code",
   "execution_count": null,
   "metadata": {},
   "outputs": [],
   "source": []
  }
 ],
 "metadata": {
  "kernelspec": {
   "display_name": "Python 3",
   "language": "python",
   "name": "python3"
  }
 },
 "nbformat": 4,
 "nbformat_minor": 2
}
